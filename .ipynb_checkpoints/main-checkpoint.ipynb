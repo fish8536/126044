{
 "cells": [
  {
   "cell_type": "code",
   "execution_count": 39,
   "metadata": {},
   "outputs": [
    {
     "data": {
      "text/plain": [
       "array([[3.38275709e-04, 4.12119016e-06, 3.38307981e-05, ...,\n",
       "        1.71899658e-06, 2.39533015e-05, 1.90050785e-06],\n",
       "       [1.53519740e-04, 3.77755971e-06, 3.37146256e-05, ...,\n",
       "        1.70510810e-06, 2.28973548e-05, 1.92294937e-06],\n",
       "       [1.30538178e-04, 3.50037014e-06, 3.45560835e-05, ...,\n",
       "        1.81421759e-06, 2.79028613e-05, 2.03728366e-06],\n",
       "       ...,\n",
       "       [3.47395525e-04, 5.71468024e-06, 3.95979309e-05, ...,\n",
       "        2.02095608e-06, 3.53522291e-05, 2.44976816e-06],\n",
       "       [3.34981219e-04, 5.94384974e-06, 3.91007957e-05, ...,\n",
       "        2.04901636e-06, 3.73791303e-05, 2.41926382e-06],\n",
       "       [3.71023957e-04, 6.03197181e-06, 4.60773247e-05, ...,\n",
       "        1.93283449e-06, 3.29339571e-05, 2.56266108e-06]])"
      ]
     },
     "execution_count": 39,
     "metadata": {},
     "output_type": "execute_result"
    }
   ],
   "source": [
    "# coding=utf-8\n",
    "import numpy as np\n",
    "import pandas as pd\n",
    "import matplotlib.pyplot as plt\n",
    "from os import listdir\n",
    "from os.path import isfile, join\n",
    "from scipy.fftpack import fft,ifft\n",
    "\n",
    "def read_xls(file):\n",
    "\txls = pd.read_excel(file, index_col=None, header=None)\n",
    "\treturn xls\n",
    "\n",
    "def predata(xls):\n",
    "\tcolumns = xls[:-1][:].astype('float64')\n",
    "\treturn columns\n",
    "\n",
    "def predata_fft(col):\n",
    "\tfcolumns = np.fft.fft(col)\n",
    "\tyf=abs(fft(fcolumns))\n",
    "\tyf1=abs(fft(fcolumns))/7500\n",
    "\tyf2 = yf1[range(int(7500/2))]\n",
    "\treturn yf2\n",
    "\n",
    "def col_split(col):\n",
    "\tcolumns_split = np.array_split(col, 5, axis=0)\n",
    "\treturn columns_split\n",
    "\n",
    "def col_max_average(col):\n",
    "\tcolumns = []\n",
    "\tfor i in range(0,5):\n",
    "\t\tcolumns.append(np.amax(col[i]))\n",
    "\t\tcolumns.append(np.average(col[i]))\n",
    "\treturn columns\n",
    "# 40 file, 4 sensor, 5 fft max and avg\n",
    "result = np.zeros((40, 40))\n",
    "fileans = []\n",
    "tran_folder=\"traning_source/\"\n",
    "tfi = 0\n",
    "for f in listdir(tran_folder):\n",
    "    if isfile(join(tran_folder, f)):\n",
    "        xls = read_xls(tran_folder+f)\n",
    "        pxls = predata(xls)\n",
    "        fcolumns = []\n",
    "        for fc in range(4):\n",
    "            fcolumns.extend(col_max_average(col_split(predata_fft(pxls[fc]))))\n",
    "        result[tfi] = fcolumns\n",
    "        fileans.append(float(xls[0][7500].split(':')[1]))\n",
    "        tfi=tfi+1\n",
    "result"
   ]
  },
  {
   "cell_type": "code",
   "execution_count": 40,
   "metadata": {},
   "outputs": [
    {
     "data": {
      "text/plain": [
       "(array([[1.13924739e-04, 3.90450287e-06, 4.72670010e-05, ...,\n",
       "         1.52765334e-06, 1.92725795e-05, 1.99601374e-06],\n",
       "        [9.03611793e-05, 3.21179774e-06, 3.01239044e-05, ...,\n",
       "         1.24933815e-06, 2.53262338e-05, 1.78379125e-06],\n",
       "        [7.31926484e-05, 2.30250652e-06, 3.02907280e-05, ...,\n",
       "         1.46988333e-06, 2.78369885e-05, 1.96410215e-06],\n",
       "        ...,\n",
       "        [3.34981219e-04, 5.94384974e-06, 3.91007957e-05, ...,\n",
       "         2.04901636e-06, 3.73791303e-05, 2.41926382e-06],\n",
       "        [1.33282529e-04, 3.71461035e-06, 3.66345634e-05, ...,\n",
       "         1.68673538e-06, 2.68010286e-05, 1.98207569e-06],\n",
       "        [3.38275709e-04, 4.12119016e-06, 3.38307981e-05, ...,\n",
       "         1.71899658e-06, 2.39533015e-05, 1.90050785e-06]]),\n",
       " array([[1.18102059e-04, 4.41740778e-06, 3.27902235e-05, 1.64852321e-06,\n",
       "         1.68490291e-04, 4.76265387e-06, 6.11801670e-05, 1.85653673e-06,\n",
       "         1.91413859e-04, 5.31000326e-06, 2.33012618e-04, 4.70423982e-06,\n",
       "         3.19599651e-05, 1.83676553e-06, 1.65566932e-04, 5.57908170e-06,\n",
       "         3.82108709e-05, 1.83186804e-06, 1.71614828e-04, 8.04646415e-06,\n",
       "         5.39037409e-05, 3.21121504e-06, 1.26889707e-04, 2.80731293e-06,\n",
       "         6.65089920e-05, 3.05180330e-06, 8.56672009e-05, 2.64390287e-06,\n",
       "         1.14942273e-04, 3.36381091e-06, 2.12200796e-05, 2.03631350e-06,\n",
       "         2.03343377e-05, 1.30865355e-06, 2.22133288e-05, 1.97545552e-06,\n",
       "         2.17619622e-05, 1.26019486e-06, 1.98818791e-05, 2.05635591e-06],\n",
       "        [5.70367780e-05, 3.15344932e-06, 4.47896443e-05, 1.71836653e-06,\n",
       "         5.71768840e-05, 3.24877107e-06, 4.04647762e-05, 1.74430023e-06,\n",
       "         1.14304158e-04, 3.98233286e-06, 8.91745538e-05, 3.54825277e-06,\n",
       "         4.03968789e-05, 1.85608811e-06, 8.53737094e-05, 3.94692011e-06,\n",
       "         4.88805517e-05, 1.91141033e-06, 1.55622424e-04, 6.90449628e-06,\n",
       "         5.55269653e-05, 2.99850877e-06, 5.70492431e-05, 2.35826940e-06,\n",
       "         6.82603193e-05, 3.07147221e-06, 3.08022823e-05, 2.43635392e-06,\n",
       "         1.18070175e-04, 3.54208171e-06, 2.03982366e-05, 1.97584490e-06,\n",
       "         1.84778478e-05, 1.44417579e-06, 2.16556009e-05, 2.07610838e-06,\n",
       "         2.01785458e-05, 1.40594872e-06, 2.73966117e-05, 2.15140812e-06],\n",
       "        [4.19083850e-04, 5.01422154e-06, 4.39013431e-05, 1.64427751e-06,\n",
       "         2.69419983e-04, 5.66927990e-06, 4.54355641e-05, 1.76366554e-06,\n",
       "         2.75597276e-04, 6.18258822e-06, 4.05520035e-04, 6.14914216e-06,\n",
       "         3.54598715e-05, 1.69175207e-06, 2.15031953e-04, 7.29425782e-06,\n",
       "         6.54532164e-05, 1.93265006e-06, 1.74557599e-04, 8.14046181e-06,\n",
       "         1.64313948e-04, 3.56958188e-06, 1.15035421e-04, 2.62743236e-06,\n",
       "         1.18222174e-04, 3.92581542e-06, 1.03247899e-04, 2.70304592e-06,\n",
       "         1.37287944e-04, 4.45594020e-06, 4.12799299e-05, 2.10746747e-06,\n",
       "         2.51060212e-05, 1.27967284e-06, 5.76622180e-05, 2.23696926e-06,\n",
       "         1.84950464e-05, 1.27409033e-06, 6.59697606e-05, 2.36380590e-06],\n",
       "        [1.64770587e-04, 4.21147115e-06, 4.95693414e-05, 2.47252365e-06,\n",
       "         1.76950424e-04, 4.00504466e-06, 4.04785929e-05, 2.25186963e-06,\n",
       "         1.40355385e-04, 3.99493214e-06, 2.94459366e-04, 4.88485698e-06,\n",
       "         3.47635756e-05, 2.14673227e-06, 1.35162556e-04, 4.35558999e-06,\n",
       "         4.06509499e-05, 2.16392227e-06, 8.17245993e-05, 4.25687361e-06,\n",
       "         4.91058726e-05, 3.06330838e-06, 9.56824072e-05, 3.58948763e-06,\n",
       "         5.13607072e-05, 2.96686313e-06, 9.64955833e-05, 3.48115306e-06,\n",
       "         5.59894659e-05, 2.93460618e-06, 2.99493304e-05, 2.09194832e-06,\n",
       "         3.57903669e-05, 1.91935067e-06, 2.98154904e-05, 2.11001642e-06,\n",
       "         3.57875782e-05, 1.86797353e-06, 3.07243940e-05, 2.13406158e-06]]),\n",
       " [0.4251,\n",
       "  0.5717,\n",
       "  0.3477,\n",
       "  0.5883,\n",
       "  0.705,\n",
       "  0.6367,\n",
       "  0.6848,\n",
       "  0.8454,\n",
       "  0.4148,\n",
       "  0.5047,\n",
       "  0.4901,\n",
       "  0.3311,\n",
       "  0.5636,\n",
       "  0.667,\n",
       "  0.928,\n",
       "  0.3992,\n",
       "  0.4438,\n",
       "  0.6547,\n",
       "  0.5549,\n",
       "  0.3246,\n",
       "  0.3708,\n",
       "  0.453,\n",
       "  0.4737,\n",
       "  0.4189,\n",
       "  1.0736,\n",
       "  0.7471,\n",
       "  0.5747,\n",
       "  0.7436,\n",
       "  0.4732,\n",
       "  0.6266,\n",
       "  0.7149,\n",
       "  0.9264,\n",
       "  0.5515,\n",
       "  0.4044,\n",
       "  0.4993,\n",
       "  0.306],\n",
       " [0.6478, 0.4922, 1.1181, 0.8483])"
      ]
     },
     "execution_count": 40,
     "metadata": {},
     "output_type": "execute_result"
    }
   ],
   "source": [
    "from sklearn.cross_validation import train_test_split\n",
    "from sklearn.linear_model import LinearRegression\n",
    "X_train, X_test, y_train, y_test = train_test_split(result, fileans, test_size = 0.1, random_state = 0)\n",
    "X_train, X_test, y_train, y_test"
   ]
  },
  {
   "cell_type": "code",
   "execution_count": 41,
   "metadata": {},
   "outputs": [
    {
     "data": {
      "text/plain": [
       "-1.2919083358596795"
      ]
     },
     "execution_count": 41,
     "metadata": {},
     "output_type": "execute_result"
    }
   ],
   "source": [
    "regressor = LinearRegression()\n",
    "regressor.fit(X_train,y_train)\n",
    "#取得截距。如果公式是y=a+bx，a即是截距\n",
    "regressor.intercept_"
   ]
  },
  {
   "cell_type": "code",
   "execution_count": 42,
   "metadata": {},
   "outputs": [
    {
     "ename": "AttributeError",
     "evalue": "'numpy.ndarray' object has no attribute 'columns'",
     "output_type": "error",
     "traceback": [
      "\u001b[1;31m---------------------------------------------------------------------------\u001b[0m",
      "\u001b[1;31mAttributeError\u001b[0m                            Traceback (most recent call last)",
      "\u001b[1;32m<ipython-input-42-fd7730a818c6>\u001b[0m in \u001b[0;36m<module>\u001b[1;34m()\u001b[0m\n\u001b[0;32m      1\u001b[0m \u001b[1;31m#取得迴歸係數，並用Data Frame顯示\u001b[0m\u001b[1;33m\u001b[0m\u001b[1;33m\u001b[0m\u001b[0m\n\u001b[1;32m----> 2\u001b[1;33m \u001b[0mcdf\u001b[0m \u001b[1;33m=\u001b[0m \u001b[0mpd\u001b[0m\u001b[1;33m.\u001b[0m\u001b[0mDataFrame\u001b[0m\u001b[1;33m(\u001b[0m\u001b[0mregressor\u001b[0m\u001b[1;33m.\u001b[0m\u001b[0mcoef_\u001b[0m\u001b[1;33m,\u001b[0m\u001b[0mX_train\u001b[0m\u001b[1;33m.\u001b[0m\u001b[0mcolumns\u001b[0m\u001b[1;33m,\u001b[0m\u001b[0mcolumns\u001b[0m\u001b[1;33m=\u001b[0m\u001b[1;33m[\u001b[0m\u001b[1;34m'Coef'\u001b[0m\u001b[1;33m]\u001b[0m\u001b[1;33m)\u001b[0m\u001b[1;33m\u001b[0m\u001b[0m\n\u001b[0m\u001b[0;32m      3\u001b[0m \u001b[0mcdf\u001b[0m\u001b[1;33m\u001b[0m\u001b[0m\n",
      "\u001b[1;31mAttributeError\u001b[0m: 'numpy.ndarray' object has no attribute 'columns'"
     ]
    }
   ],
   "source": [
    "#取得迴歸係數，並用Data Frame顯示\n",
    "cdf = pd.DataFrame(regressor.coef_,X_train.columns,columns=['Coef'])\n",
    "cdf"
   ]
  },
  {
   "cell_type": "code",
   "execution_count": 43,
   "metadata": {},
   "outputs": [
    {
     "data": {
      "text/plain": [
       "array([0.06954135, 0.40485233, 0.78109969, 1.15970305])"
      ]
     },
     "execution_count": 43,
     "metadata": {},
     "output_type": "execute_result"
    }
   ],
   "source": [
    "#使用測試組資料來預測結果\n",
    "y_pred = regressor.predict(X_test)\n",
    "y_pred"
   ]
  },
  {
   "cell_type": "code",
   "execution_count": 44,
   "metadata": {},
   "outputs": [
    {
     "data": {
      "image/png": "[encoded data removed]",
      "text/plain": [
       "<Figure size 432x288 with 1 Axes>"
      ]
     },
     "metadata": {},
     "output_type": "display_data"
    }
   ],
   "source": [
    "#比較實際及預測的關係\n",
    "plt.scatter(y_test,y_pred)\n",
    "\n",
    "plt.show()"
   ]
  },
  {
   "cell_type": "code",
   "execution_count": 45,
   "metadata": {},
   "outputs": [
    {
     "name": "stderr",
     "output_type": "stream",
     "text": [
      "C:\\Users\\fish\\Anaconda3\\lib\\site-packages\\matplotlib\\axes\\_axes.py:6462: UserWarning: The 'normed' kwarg is deprecated, and has been replaced by the 'density' kwarg.\n",
      "  warnings.warn(\"The 'normed' kwarg is deprecated, and has been \"\n"
     ]
    },
    {
     "data": {
      "text/plain": [
       "<matplotlib.axes._subplots.AxesSubplot at 0x18c62e71710>"
      ]
     },
     "execution_count": 45,
     "metadata": {},
     "output_type": "execute_result"
    },
    {
     "data": {
      "image/png": "[encoded data removed]",
      "text/plain": [
       "<Figure size 432x288 with 1 Axes>"
      ]
     },
     "metadata": {},
     "output_type": "display_data"
    }
   ],
   "source": [
    "#看實際值及預測值之間的殘差分佈圖\n",
    "import seaborn as sns\n",
    "sns.distplot((y_test-y_pred))"
   ]
  },
  {
   "cell_type": "code",
   "execution_count": 46,
   "metadata": {},
   "outputs": [
    {
     "data": {
      "text/plain": [
       "0.37166979698258956"
      ]
     },
     "execution_count": 46,
     "metadata": {},
     "output_type": "execute_result"
    }
   ],
   "source": [
    "#載入迴歸常見的評估指標\n",
    "from sklearn import metrics\n",
    "#Root Mean Squared Error (RMSE)代表MSE的平方根。比起MSE更為常用，因為更容易解釋y。\n",
    "np.sqrt(metrics.mean_squared_error(y_test,y_pred))"
   ]
  },
  {
   "cell_type": "code",
   "execution_count": null,
   "metadata": {},
   "outputs": [],
   "source": []
  }
 ],
 "metadata": {
  "kernelspec": {
   "display_name": "Python 3",
   "language": "python",
   "name": "python3"
  },
  "language_info": {
   "codemirror_mode": {
    "name": "ipython",
    "version": 3
   },
   "file_extension": ".py",
   "mimetype": "text/x-python",
   "name": "python",
   "nbconvert_exporter": "python",
   "pygments_lexer": "ipython3",
   "version": "3.6.5"
  }
 },
 "nbformat": 4,
 "nbformat_minor": 2
}
